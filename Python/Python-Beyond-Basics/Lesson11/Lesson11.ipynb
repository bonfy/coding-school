{
 "cells": [
  {
   "cell_type": "markdown",
   "metadata": {},
   "source": [
    "# Python Beyond Basics (Lesson 6)\n",
    "\n",
    "> Context Manager\n",
    "\n",
    "\n",
    "## what is a context manager\n",
    "```\n",
    "with context-manager:\n",
    "\n",
    "    context-manager.begin() #　enter()\n",
    "    body\n",
    "    context-manager.end() # exit()\n",
    "```\n",
    "\n",
    "## Context Protocol\n",
    "\n",
    "`__enter__(self)`\n",
    "\n",
    "`__exit__(self, exc_type, exc_val, exc_tb)`\n",
    "\n",
    "![Context Protocol](https://i.loli.net/2018/01/15/5a5c5d2e57060.png)\n"
   ]
  },
  {
   "cell_type": "code",
   "execution_count": 1,
   "metadata": {
    "collapsed": true
   },
   "outputs": [],
   "source": [
    "# Example \n",
    "# LoggingContextManager\n",
    "\n",
    "class LoggingContextManager:\n",
    "    \n",
    "    def __enter__(self):\n",
    "        return self\n",
    "    \n",
    "    def __exit__(self, exc_type, exc_val, exc_tb):\n",
    "        return"
   ]
  },
  {
   "cell_type": "code",
   "execution_count": 2,
   "metadata": {},
   "outputs": [
    {
     "name": "stdout",
     "output_type": "stream",
     "text": [
      "<__main__.LoggingContextManager object at 0x112a40eb8>\n"
     ]
    }
   ],
   "source": [
    "with LoggingContextManager() as x:\n",
    "    print(x)"
   ]
  },
  {
   "cell_type": "code",
   "execution_count": 3,
   "metadata": {
    "collapsed": true
   },
   "outputs": [],
   "source": [
    "class LoggingContextManager:\n",
    "    \n",
    "    def __enter__(self):\n",
    "        return 'this is LoggingContext'\n",
    "    \n",
    "    def __exit__(self, exc_type, exc_val, exc_tb):\n",
    "        return\n",
    "    \n"
   ]
  },
  {
   "cell_type": "code",
   "execution_count": 5,
   "metadata": {},
   "outputs": [
    {
     "name": "stdout",
     "output_type": "stream",
     "text": [
      "<class 'str'>\n",
      "this is LoggingContext\n"
     ]
    }
   ],
   "source": [
    "with LoggingContextManager() as x:\n",
    "    print(type(x))\n",
    "    print(x)"
   ]
  },
  {
   "cell_type": "code",
   "execution_count": 6,
   "metadata": {
    "collapsed": true
   },
   "outputs": [],
   "source": [
    "class LoggingContextManager:\n",
    "    \n",
    "    def __enter__(self):\n",
    "        print('LoggingContextManager.__enter__()')\n",
    "        return 'this is LoggingContext'\n",
    "    \n",
    "    def __exit__(self, exc_type, exc_val, exc_tb):\n",
    "        print('LoggingContextManager.__exit__({},{},{})'.format(\n",
    "            exc_type, exc_val, exc_tb\n",
    "        ))\n",
    "        return\n",
    "    "
   ]
  },
  {
   "cell_type": "code",
   "execution_count": 7,
   "metadata": {},
   "outputs": [
    {
     "name": "stdout",
     "output_type": "stream",
     "text": [
      "LoggingContextManager.__enter__()\n",
      "this is LoggingContext\n",
      "LoggingContextManager.__exit__(None,None,None)\n"
     ]
    }
   ],
   "source": [
    "with LoggingContextManager() as x:\n",
    "    print(x)"
   ]
  },
  {
   "cell_type": "code",
   "execution_count": 8,
   "metadata": {},
   "outputs": [
    {
     "name": "stdout",
     "output_type": "stream",
     "text": [
      "LoggingContextManager.__enter__()\n",
      "LoggingContextManager.__exit__(<class 'ValueError'>,Something wrong happened.,<traceback object at 0x11286e388>)\n"
     ]
    },
    {
     "ename": "ValueError",
     "evalue": "Something wrong happened.",
     "output_type": "error",
     "traceback": [
      "\u001b[0;31m---------------------------------------------------------------------------\u001b[0m",
      "\u001b[0;31mValueError\u001b[0m                                Traceback (most recent call last)",
      "\u001b[0;32m<ipython-input-8-54a601a0e61e>\u001b[0m in \u001b[0;36m<module>\u001b[0;34m()\u001b[0m\n\u001b[1;32m      1\u001b[0m \u001b[0;32mwith\u001b[0m \u001b[0mLoggingContextManager\u001b[0m\u001b[0;34m(\u001b[0m\u001b[0;34m)\u001b[0m \u001b[0;32mas\u001b[0m \u001b[0mx\u001b[0m\u001b[0;34m:\u001b[0m\u001b[0;34m\u001b[0m\u001b[0m\n\u001b[0;32m----> 2\u001b[0;31m     \u001b[0;32mraise\u001b[0m \u001b[0mValueError\u001b[0m\u001b[0;34m(\u001b[0m\u001b[0;34m'Something wrong happened.'\u001b[0m\u001b[0;34m)\u001b[0m\u001b[0;34m\u001b[0m\u001b[0m\n\u001b[0m\u001b[1;32m      3\u001b[0m     \u001b[0mprint\u001b[0m\u001b[0;34m(\u001b[0m\u001b[0mx\u001b[0m\u001b[0;34m)\u001b[0m\u001b[0;34m\u001b[0m\u001b[0m\n",
      "\u001b[0;31mValueError\u001b[0m: Something wrong happened."
     ]
    }
   ],
   "source": [
    "with LoggingContextManager() as x:\n",
    "    raise ValueError('Something wrong happened.')\n",
    "    print(x)"
   ]
  },
  {
   "cell_type": "code",
   "execution_count": 9,
   "metadata": {},
   "outputs": [
    {
     "name": "stdout",
     "output_type": "stream",
     "text": [
      "True\n"
     ]
    }
   ],
   "source": [
    "f = open('a_file', 'w')\n",
    "with f as g:\n",
    "    print(f is g)"
   ]
  },
  {
   "cell_type": "code",
   "execution_count": 10,
   "metadata": {},
   "outputs": [
    {
     "name": "stdout",
     "output_type": "stream",
     "text": [
      "LoggingContextManager.__enter__()\n",
      "LoggingContextManager.__exit__(<class 'ValueError'>,Value Error,<traceback object at 0x112aae0c8>)\n",
      "*** Value Error detected ***\n"
     ]
    }
   ],
   "source": [
    "try:\n",
    "    with LoggingContextManager() as x:\n",
    "        raise ValueError('Value Error')\n",
    "except ValueError as e:\n",
    "    print('*** Value Error detected ***')"
   ]
  },
  {
   "cell_type": "markdown",
   "metadata": {},
   "source": [
    "* If `__exit__()` returns False, the exception is propagated\n",
    "* `__exit__()` answer the question \"should the with-statement swallow exceptions?\"\n",
    "* By default return None, None evaluates False\n",
    "* `__exit__()` should never expliitly re-raise exceptions\n",
    "* `__exit__()` should only raise exceptions if it fails itself\n",
    "\n"
   ]
  },
  {
   "cell_type": "markdown",
   "metadata": {},
   "source": [
    "## Contextlib\n",
    "\n",
    "standard library module for working with context managers\n",
    "\n",
    "contextlib.contextmanager"
   ]
  },
  {
   "cell_type": "markdown",
   "metadata": {},
   "source": [
    "```\n",
    "@contextmanager\n",
    "def my_context_manager():\n",
    "    # enter\n",
    "    try:\n",
    "        yield [value]\n",
    "        # normal exit\n",
    "    except:\n",
    "        # Exception exit\n",
    "        raise\n",
    "```"
   ]
  },
  {
   "cell_type": "markdown",
   "metadata": {},
   "source": [
    "import contextlib\n",
    "import sys\n",
    "\n",
    "@contextlib.contextmanager\n",
    "def logging_context_manager():\n",
    "    print('logging context manager .__enter__()')\n",
    "    try:\n",
    "        yield 'this is LoggingContext'\n",
    "        print('logging context manager normal exit()')\n",
    "    except Exception:\n",
    "        print('logging context manager: exceptional exit', sys.exc_info())\n",
    "        # 如果要 re-raise Exception 加 raise\n",
    "        # 不加 相当于  return True\n",
    "        raise"
   ]
  },
  {
   "cell_type": "code",
   "execution_count": 23,
   "metadata": {},
   "outputs": [
    {
     "name": "stdout",
     "output_type": "stream",
     "text": [
      "logging context manager .__enter__()\n",
      "this is LoggingContext\n",
      "logging context manager normal exit()\n"
     ]
    }
   ],
   "source": [
    "with logging_context_manager() as x:\n",
    "    print(x)"
   ]
  },
  {
   "cell_type": "code",
   "execution_count": 24,
   "metadata": {},
   "outputs": [
    {
     "name": "stdout",
     "output_type": "stream",
     "text": [
      "logging context manager .__enter__()\n",
      "logging context manager: exceptional exit (<class 'ValueError'>, ValueError('Value Error happened.',), <traceback object at 0x112b231c8>)\n"
     ]
    },
    {
     "ename": "ValueError",
     "evalue": "Value Error happened.",
     "output_type": "error",
     "traceback": [
      "\u001b[0;31m---------------------------------------------------------------------------\u001b[0m",
      "\u001b[0;31mValueError\u001b[0m                                Traceback (most recent call last)",
      "\u001b[0;32m<ipython-input-24-1a0257e15905>\u001b[0m in \u001b[0;36m<module>\u001b[0;34m()\u001b[0m\n\u001b[1;32m      1\u001b[0m \u001b[0;32mwith\u001b[0m \u001b[0mlogging_context_manager\u001b[0m\u001b[0;34m(\u001b[0m\u001b[0;34m)\u001b[0m \u001b[0;32mas\u001b[0m \u001b[0mx\u001b[0m\u001b[0;34m:\u001b[0m\u001b[0;34m\u001b[0m\u001b[0m\n\u001b[0;32m----> 2\u001b[0;31m     \u001b[0;32mraise\u001b[0m \u001b[0mValueError\u001b[0m\u001b[0;34m(\u001b[0m\u001b[0;34m'Value Error happened.'\u001b[0m\u001b[0;34m)\u001b[0m\u001b[0;34m\u001b[0m\u001b[0m\n\u001b[0m\u001b[1;32m      3\u001b[0m     \u001b[0mprint\u001b[0m\u001b[0;34m(\u001b[0m\u001b[0mx\u001b[0m\u001b[0;34m)\u001b[0m\u001b[0;34m\u001b[0m\u001b[0m\n",
      "\u001b[0;31mValueError\u001b[0m: Value Error happened."
     ]
    }
   ],
   "source": [
    "with logging_context_manager() as x:\n",
    "    raise ValueError('Value Error happened.')\n",
    "    print(x)"
   ]
  },
  {
   "cell_type": "markdown",
   "metadata": {},
   "source": [
    "## Multiple Context Manager\n",
    "\n",
    "```\n",
    "    with cm1() as a, cm2() as b:\n",
    "        body\n",
    "    \n",
    "    \n",
    "    # 相当于\n",
    "    \n",
    "    with cm1() as a:\n",
    "        with cm2() as b:\n",
    "            body\n",
    "```"
   ]
  },
  {
   "cell_type": "code",
   "execution_count": 25,
   "metadata": {
    "collapsed": true
   },
   "outputs": [],
   "source": [
    "@contextlib.contextmanager\n",
    "def nest_name(name):\n",
    "    print('enter:', name)\n",
    "    yield\n",
    "    print('exit:', name)"
   ]
  },
  {
   "cell_type": "code",
   "execution_count": 26,
   "metadata": {},
   "outputs": [
    {
     "name": "stdout",
     "output_type": "stream",
     "text": [
      "enter: outer\n",
      "enter: inner\n",
      "BODY\n",
      "exit: inner\n",
      "exit: outer\n"
     ]
    }
   ],
   "source": [
    "with nest_name('outer'), nest_name('inner'):\n",
    "    print('BODY')"
   ]
  },
  {
   "cell_type": "code",
   "execution_count": 29,
   "metadata": {
    "collapsed": true
   },
   "outputs": [],
   "source": [
    "@contextlib.contextmanager\n",
    "def nest_name(name):\n",
    "    print('enter:', name)\n",
    "    yield name\n",
    "    print('exit:', name)\n",
    "    "
   ]
  },
  {
   "cell_type": "code",
   "execution_count": 30,
   "metadata": {},
   "outputs": [
    {
     "name": "stdout",
     "output_type": "stream",
     "text": [
      "enter: outer\n",
      "enter: inner, nested in outer\n",
      "BODY\n",
      "exit: inner, nested in outer\n",
      "exit: outer\n"
     ]
    }
   ],
   "source": [
    "with nest_name('outer') as n1, nest_name('inner, nested in '+n1):\n",
    "    print('BODY')"
   ]
  },
  {
   "cell_type": "code",
   "execution_count": null,
   "metadata": {
    "collapsed": true
   },
   "outputs": [],
   "source": []
  }
 ],
 "metadata": {
  "kernelspec": {
   "display_name": "Python 3",
   "language": "python",
   "name": "python3"
  },
  "language_info": {
   "codemirror_mode": {
    "name": "ipython",
    "version": 3
   },
   "file_extension": ".py",
   "mimetype": "text/x-python",
   "name": "python",
   "nbconvert_exporter": "python",
   "pygments_lexer": "ipython3",
   "version": "3.6.3"
  }
 },
 "nbformat": 4,
 "nbformat_minor": 2
}
