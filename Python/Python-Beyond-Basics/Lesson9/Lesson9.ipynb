{
 "cells": [
  {
   "cell_type": "markdown",
   "metadata": {},
   "source": [
    "# Python Beyond Basics (Lesson 9)\n",
    "\n",
    "> Implementing Collections\n",
    "\n",
    "## Collection Types\n",
    "\n",
    "![collection](https://i.loli.net/2018/01/12/5a585f8b43592.png)\n",
    "\n",
    "\n",
    "* container: in and not in\n",
    "* sized: len(s)\n",
    "* Iterable: iter(s)\n",
    "* sequence: seq[index], seq.index(item), seq.count(item), r = reversed(seq)\n",
    "* Set: set methods\n"
   ]
  },
  {
   "cell_type": "markdown",
   "metadata": {},
   "source": [
    "## Build a Sorted Set\n",
    "\n",
    "* sized\n",
    "* iterable\n",
    "* sequence\n",
    "* container\n",
    "* set\n",
    "\n"
   ]
  },
  {
   "cell_type": "code",
   "execution_count": null,
   "metadata": {
    "collapsed": true
   },
   "outputs": [],
   "source": []
  }
 ],
 "metadata": {
  "kernelspec": {
   "display_name": "Python 3",
   "language": "python",
   "name": "python3"
  },
  "language_info": {
   "codemirror_mode": {
    "name": "ipython",
    "version": 3
   },
   "file_extension": ".py",
   "mimetype": "text/x-python",
   "name": "python",
   "nbconvert_exporter": "python",
   "pygments_lexer": "ipython3",
   "version": "3.6.3"
  }
 },
 "nbformat": 4,
 "nbformat_minor": 2
}
